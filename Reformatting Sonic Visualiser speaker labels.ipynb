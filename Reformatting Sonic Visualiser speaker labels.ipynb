{
 "cells": [
  {
   "cell_type": "code",
   "execution_count": 1,
   "metadata": {
    "collapsed": false
   },
   "outputs": [],
   "source": [
    "import pandas as pd\n",
    "import os\n",
    "os.chdir('Old_speaker_labels/')\n"
   ]
  },
  {
   "cell_type": "code",
   "execution_count": 2,
   "metadata": {
    "collapsed": false
   },
   "outputs": [
    {
     "data": {
      "text/plain": [
       "['Bill_Clinton_corrected_SMcL',\n",
       " 'Gloria_Steinem_corrected_Ryan',\n",
       " 'Hillary_Clinton_corrected_Ryan',\n",
       " 'James_Baldwin_corrected_Ryan',\n",
       " 'Julia_Child_corrected_Ryan',\n",
       " 'LBJ_corrected_Ryan',\n",
       " 'Malcolm_X_corrected_Ryan',\n",
       " 'Malcolm_X_corrected_SMcL',\n",
       " 'Ossie_Davis_Ryan',\n",
       " 'Richard_Nixon_corrected_Ryan',\n",
       " 'Ronald_Reagan_corrected_Ryan']"
      ]
     },
     "execution_count": 2,
     "metadata": {},
     "output_type": "execute_result"
    }
   ],
   "source": [
    "label_dir_names = [item for item in os.listdir('./') if os.path.isdir(item)]\n",
    "label_dir_names"
   ]
  },
  {
   "cell_type": "code",
   "execution_count": 3,
   "metadata": {
    "collapsed": false
   },
   "outputs": [],
   "source": [
    "for dir_name in label_dir_names:\n",
    "    \n",
    "    main_label = dir_name.split('_corrected_')[0].replace('_',' ')\n",
    "    \n",
    "    label_filenames = os.listdir(dir_name)\n",
    "    label_dataframes = []\n",
    "\n",
    "    for filename in [item for item in label_filenames if item!='.DS_Store']:\n",
    "        #filename = label_filenames[5]\n",
    "        basename = filename.replace('_corrected.csv','')\n",
    "        \n",
    "        label_rows = open(os.path.join(dir_name,filename)).read().splitlines()\n",
    "\n",
    "        label_rows = [item for item in label_rows if (item!='')&(item[:2]!='##')]\n",
    "        \n",
    "        label_rows = [item.split(',') for item in label_rows]\n",
    "\n",
    "        if len(label_rows)>0:\n",
    "            label_rows_filtered = []\n",
    "            \n",
    "            for row in label_rows:\n",
    "                \n",
    "                #if len(row)<3:       #debugging\n",
    "                #    print(dir_name)\n",
    "                #    print(filename)\n",
    "\n",
    "                if float(row[2])!= 0.0:  ## filtering out accidental empty labels\n",
    "                    if len(row)==3:\n",
    "                        row.append(main_label)\n",
    "                    if len(row)!=4:\n",
    "                        print(\"ERROR: wrong number of cells\")\n",
    "                        print(dir_name)\n",
    "                        print(filename)\n",
    "                        print(row)\n",
    "                    else:\n",
    "                        label_rows_filtered.append(row)\n",
    "                        \n",
    "            label_df = pd.DataFrame(label_rows_filtered, columns = [\"Start time\",\"Num_ID_discard\",\"Duration\",\"Label\"])\n",
    "            label_df[\"Media file basename\"] = basename\n",
    "            if '_Ryan' in dir_name:\n",
    "                label_df[\"Labeled by\"] = \"Ryan Blake\"\n",
    "            elif '_SMcL' in dir_name:\n",
    "                label_df[\"Labeled by\"] = \"Stephen R. McLaughlin\"\n",
    "            label_dataframes.append(label_df)\n",
    "\n",
    "    if len(label_dataframes)>0:\n",
    "        out_table = pd.concat(label_dataframes) # concatenating tables\n",
    "        out_table = out_table[[\"Media file basename\",\"Start time\",\"Duration\",\"Label\",\"Labeled by\"]] #rearranging columns\n",
    "        out_table.to_csv(dir_name.replace('/','')+'.csv', index=False)"
   ]
  },
  {
   "cell_type": "code",
   "execution_count": null,
   "metadata": {
    "collapsed": false
   },
   "outputs": [],
   "source": []
  },
  {
   "cell_type": "code",
   "execution_count": null,
   "metadata": {
    "collapsed": true
   },
   "outputs": [],
   "source": []
  },
  {
   "cell_type": "code",
   "execution_count": null,
   "metadata": {
    "collapsed": true
   },
   "outputs": [],
   "source": []
  },
  {
   "cell_type": "code",
   "execution_count": null,
   "metadata": {
    "collapsed": false
   },
   "outputs": [],
   "source": []
  },
  {
   "cell_type": "code",
   "execution_count": null,
   "metadata": {
    "collapsed": false
   },
   "outputs": [],
   "source": [
    "\n"
   ]
  },
  {
   "cell_type": "code",
   "execution_count": null,
   "metadata": {
    "collapsed": true
   },
   "outputs": [],
   "source": []
  },
  {
   "cell_type": "code",
   "execution_count": null,
   "metadata": {
    "collapsed": false
   },
   "outputs": [],
   "source": [
    "\n",
    "\n"
   ]
  },
  {
   "cell_type": "code",
   "execution_count": null,
   "metadata": {
    "collapsed": true
   },
   "outputs": [],
   "source": []
  },
  {
   "cell_type": "code",
   "execution_count": null,
   "metadata": {
    "collapsed": true
   },
   "outputs": [],
   "source": []
  }
 ],
 "metadata": {
  "kernelspec": {
   "display_name": "Python 3",
   "language": "python",
   "name": "python3"
  },
  "language_info": {
   "codemirror_mode": {
    "name": "ipython",
    "version": 2
   },
   "file_extension": ".py",
   "mimetype": "text/x-python",
   "name": "python",
   "nbconvert_exporter": "python",
   "pygments_lexer": "ipython2",
   "version": "2.7.13"
  }
 },
 "nbformat": 4,
 "nbformat_minor": 0
}
