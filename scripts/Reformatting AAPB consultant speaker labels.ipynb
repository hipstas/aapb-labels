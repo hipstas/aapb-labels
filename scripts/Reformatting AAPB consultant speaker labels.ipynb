{
 "cells": [
  {
   "cell_type": "code",
   "execution_count": 7,
   "metadata": {
    "collapsed": true
   },
   "outputs": [],
   "source": [
    "import pandas as pd\n",
    "import csv\n",
    "import os\n",
    "os.chdir('/sharedfolder/aapb-speaker-labels/backup/')"
   ]
  },
  {
   "cell_type": "code",
   "execution_count": 8,
   "metadata": {},
   "outputs": [
    {
     "data": {
      "text/html": [
       "<div>\n",
       "<style>\n",
       "    .dataframe thead tr:only-child th {\n",
       "        text-align: right;\n",
       "    }\n",
       "\n",
       "    .dataframe thead th {\n",
       "        text-align: left;\n",
       "    }\n",
       "\n",
       "    .dataframe tbody tr th {\n",
       "        vertical-align: top;\n",
       "    }\n",
       "</style>\n",
       "<table border=\"1\" class=\"dataframe\">\n",
       "  <thead>\n",
       "    <tr style=\"text-align: right;\">\n",
       "      <th></th>\n",
       "      <th>AAPB Unique Identifier (GUID)</th>\n",
       "      <th>Type</th>\n",
       "      <th>Value</th>\n",
       "      <th>Timecode IN</th>\n",
       "      <th>Timecode OUT</th>\n",
       "      <th>File Duration</th>\n",
       "      <th>SonyCi ID</th>\n",
       "      <th>Filename</th>\n",
       "    </tr>\n",
       "  </thead>\n",
       "  <tbody>\n",
       "    <tr>\n",
       "      <th>0</th>\n",
       "      <td>cpb-aacip/500-j9609t48</td>\n",
       "      <td>Significant speaker voice</td>\n",
       "      <td>Kennedy, John F.</td>\n",
       "      <td>5</td>\n",
       "      <td>110</td>\n",
       "      <td>1739.184</td>\n",
       "      <td>6d54987efa73413cb3558c95baa907a6</td>\n",
       "      <td>cpb-aacip-500-j9609t48.mp3</td>\n",
       "    </tr>\n",
       "    <tr>\n",
       "      <th>1</th>\n",
       "      <td>cpb-aacip/500-j9609t48</td>\n",
       "      <td>Sound quality</td>\n",
       "      <td>audience clapping</td>\n",
       "      <td>131</td>\n",
       "      <td>140</td>\n",
       "      <td>1739.184</td>\n",
       "      <td>6d54987efa73413cb3558c95baa907a6</td>\n",
       "      <td>cpb-aacip-500-j9609t48.mp3</td>\n",
       "    </tr>\n",
       "    <tr>\n",
       "      <th>2</th>\n",
       "      <td>cpb-aacip/500-j9609t48</td>\n",
       "      <td>Significant speaker voice</td>\n",
       "      <td>Kennedy, John F.</td>\n",
       "      <td>119</td>\n",
       "      <td>254</td>\n",
       "      <td>1739.184</td>\n",
       "      <td>6d54987efa73413cb3558c95baa907a6</td>\n",
       "      <td>cpb-aacip-500-j9609t48.mp3</td>\n",
       "    </tr>\n",
       "    <tr>\n",
       "      <th>3</th>\n",
       "      <td>cpb-aacip/500-j9609t48</td>\n",
       "      <td>Sound quality</td>\n",
       "      <td>audience clapping</td>\n",
       "      <td>255</td>\n",
       "      <td>262</td>\n",
       "      <td>1739.184</td>\n",
       "      <td>6d54987efa73413cb3558c95baa907a6</td>\n",
       "      <td>cpb-aacip-500-j9609t48.mp3</td>\n",
       "    </tr>\n",
       "    <tr>\n",
       "      <th>4</th>\n",
       "      <td>cpb-aacip/500-ff3m1h34</td>\n",
       "      <td>Significant speaker voice</td>\n",
       "      <td>Kennedy, John F.</td>\n",
       "      <td>358</td>\n",
       "      <td>436</td>\n",
       "      <td>1800.504</td>\n",
       "      <td>d440faa5f295427c962e6edc4d0031a8</td>\n",
       "      <td>cpb-aacip-500-ff3m1h34.mp3</td>\n",
       "    </tr>\n",
       "  </tbody>\n",
       "</table>\n",
       "</div>"
      ],
      "text/plain": [
       "  AAPB Unique Identifier (GUID)                       Type              Value  \\\n",
       "0        cpb-aacip/500-j9609t48  Significant speaker voice   Kennedy, John F.   \n",
       "1        cpb-aacip/500-j9609t48              Sound quality  audience clapping   \n",
       "2        cpb-aacip/500-j9609t48  Significant speaker voice   Kennedy, John F.   \n",
       "3        cpb-aacip/500-j9609t48              Sound quality  audience clapping   \n",
       "4        cpb-aacip/500-ff3m1h34  Significant speaker voice   Kennedy, John F.   \n",
       "\n",
       "   Timecode IN  Timecode OUT  File Duration                         SonyCi ID  \\\n",
       "0            5           110       1739.184  6d54987efa73413cb3558c95baa907a6   \n",
       "1          131           140       1739.184  6d54987efa73413cb3558c95baa907a6   \n",
       "2          119           254       1739.184  6d54987efa73413cb3558c95baa907a6   \n",
       "3          255           262       1739.184  6d54987efa73413cb3558c95baa907a6   \n",
       "4          358           436       1800.504  d440faa5f295427c962e6edc4d0031a8   \n",
       "\n",
       "                     Filename  \n",
       "0  cpb-aacip-500-j9609t48.mp3  \n",
       "1  cpb-aacip-500-j9609t48.mp3  \n",
       "2  cpb-aacip-500-j9609t48.mp3  \n",
       "3  cpb-aacip-500-j9609t48.mp3  \n",
       "4  cpb-aacip-500-ff3m1h34.mp3  "
      ]
     },
     "execution_count": 8,
     "metadata": {},
     "output_type": "execute_result"
    }
   ],
   "source": [
    "csv_pathname = \"AAPB_ARLO_400hrs_170412.csv\"\n",
    "\n",
    "label_df = pd.read_csv(csv_pathname)\n",
    "\n",
    "label_df.head()"
   ]
  },
  {
   "cell_type": "code",
   "execution_count": 23,
   "metadata": {},
   "outputs": [
    {
     "data": {
      "text/plain": [
       "['Baldwin, James',\n",
       " 'Buckley, William F.',\n",
       " 'Bush, George HW',\n",
       " 'Bush, George W.',\n",
       " 'Carter, Jimmy',\n",
       " 'Child, Julia',\n",
       " 'Classical Music',\n",
       " 'Clinton, Bill',\n",
       " 'Clinton, Hillary',\n",
       " 'Dog Bark',\n",
       " 'Ford, Gerald',\n",
       " 'Galbraith, John Kenneth',\n",
       " 'Gore, Al',\n",
       " 'Johnson, Lyndon',\n",
       " 'Kennedy, John F.',\n",
       " 'King, Martin Luther',\n",
       " 'Kissinger, Henry',\n",
       " 'Lehrer, Jim',\n",
       " 'NPR embedded feed',\n",
       " 'Nixon, Richard',\n",
       " 'PRI embedded feed',\n",
       " 'Pepin, Jacques',\n",
       " 'Reagan, Ronald',\n",
       " 'Spanish Language',\n",
       " 'Steinem, Gloria',\n",
       " 'Vidal, Gore',\n",
       " 'X, Malcolm',\n",
       " 'audience clapping']"
      ]
     },
     "execution_count": 23,
     "metadata": {},
     "output_type": "execute_result"
    }
   ],
   "source": [
    "sorted(list(set(list(label_df['Value']))))"
   ]
  },
  {
   "cell_type": "code",
   "execution_count": 17,
   "metadata": {},
   "outputs": [
    {
     "data": {
      "text/plain": [
       "[(0, 'AAPB Unique Identifier (GUID)'),\n",
       " (1, 'Type'),\n",
       " (2, 'Value'),\n",
       " (3, 'Timecode IN'),\n",
       " (4, 'Timecode OUT'),\n",
       " (5, 'File Duration'),\n",
       " (6, 'SonyCi ID'),\n",
       " (7, 'Filename')]"
      ]
     },
     "execution_count": 17,
     "metadata": {},
     "output_type": "execute_result"
    }
   ],
   "source": [
    "list(enumerate(list(label_df.columns)))"
   ]
  },
  {
   "cell_type": "code",
   "execution_count": 32,
   "metadata": {},
   "outputs": [],
   "source": [
    "\n",
    "for speaker_label in sorted(list(set(list(label_df['Value'])))):\n",
    "\n",
    "\n",
    "    lol = label_df[label_df['Value']==speaker_label].values.tolist()\n",
    "\n",
    "    header = [\"Media file basename\", \"Start time\", \"Duration\", \"Label\", \"Labeled by\"]\n",
    "\n",
    "    new_speaker_lol = []\n",
    "\n",
    "    new_speaker_lol.append(header)\n",
    "\n",
    "    if ', ' in speaker_label:\n",
    "        speaker_label_2 = ' '.join(speaker_label.split(', ')[::-1])\n",
    "    else:\n",
    "        speaker_label_2 = speaker_label\n",
    "    \n",
    "    for row in lol:\n",
    "        try:\n",
    "            guid, label_type, label_value, time_in, time_out, duration, sony_ci_id, filename = row\n",
    "            \n",
    "            try: basename = filename[:-4]\n",
    "            except: basename = guid      ## handling missing filenames\n",
    "\n",
    "            duration = float(time_out) - float(time_in)\n",
    "            labeled_by = \"WGBH Consultant\"\n",
    "            new_speaker_lol.append([basename, float(time_in), duration, speaker_label_2, labeled_by])\n",
    "        except Exception as e:\n",
    "            print(e)\n",
    "            print(row)\n",
    "\n",
    "\n",
    "    \n",
    "    csv_filename = str(speaker_label_2).replace(' ','_')+'_labels.csv'\n",
    "\n",
    "    csv_pathname = '../speaker_labels_manual/' + csv_filename\n",
    "\n",
    "    with open(csv_pathname, 'w') as csvfile:\n",
    "        writer = csv.writer(csvfile)\n",
    "        writer.writerows(new_speaker_lol)\n",
    "    \n",
    "    \n",
    "\n"
   ]
  },
  {
   "cell_type": "code",
   "execution_count": null,
   "metadata": {},
   "outputs": [],
   "source": []
  },
  {
   "cell_type": "code",
   "execution_count": null,
   "metadata": {
    "collapsed": true
   },
   "outputs": [],
   "source": []
  },
  {
   "cell_type": "code",
   "execution_count": null,
   "metadata": {
    "collapsed": true
   },
   "outputs": [],
   "source": []
  },
  {
   "cell_type": "code",
   "execution_count": null,
   "metadata": {
    "collapsed": true
   },
   "outputs": [],
   "source": []
  },
  {
   "cell_type": "code",
   "execution_count": null,
   "metadata": {
    "collapsed": true
   },
   "outputs": [],
   "source": [
    "\n",
    "main_label = dir_name.split('_corrected_')[0].replace('_',' ')\n",
    "\n",
    "label_filenames = os.listdir(dir_name)\n",
    "label_dataframes = []\n",
    "\n",
    "for filename in [item for item in label_filenames if item!='.DS_Store']:\n",
    "    #filename = label_filenames[5]\n",
    "    basename = filename.replace('_corrected.csv','')\n",
    "    \n",
    "    label_rows = open(os.path.join(dir_name,filename)).read().splitlines()\n",
    "\n",
    "    label_rows = [item for item in label_rows if (item!='')&(item[:2]!='##')]\n",
    "    \n",
    "    label_rows = [item.split(',') for item in label_rows]\n",
    "\n",
    "    if len(label_rows)>0:\n",
    "        label_rows_filtered = []\n",
    "        \n",
    "        for row in label_rows:\n",
    "            \n",
    "            #if len(row)<3:       #debugging\n",
    "            #    print(dir_name)\n",
    "            #    print(filename)\n",
    "\n",
    "            if float(row[2])!= 0.0:  ## filtering out accidental empty labels\n",
    "                if len(row)==3:\n",
    "                    row.append(main_label)\n",
    "                if len(row)!=4:\n",
    "                    print(\"ERROR: wrong number of cells\")\n",
    "                    print(dir_name)\n",
    "                    print(filename)\n",
    "                    print(row)\n",
    "                else:\n",
    "                    label_rows_filtered.append(row)\n",
    "                    \n",
    "        label_df = pd.DataFrame(label_rows_filtered, columns = [\"Start time\",\"Num_ID_discard\",\"Duration\",\"Label\"])\n",
    "        label_df[\"Media file basename\"] = basename\n",
    "        if '_Ryan' in dir_name:\n",
    "            label_df[\"Labeled by\"] = \"Ryan Blake\"\n",
    "        elif '_SMcL' in dir_name:\n",
    "            label_df[\"Labeled by\"] = \"Stephen R. McLaughlin\"\n",
    "        label_dataframes.append(label_df)\n",
    "\n",
    "if len(label_dataframes)>0:\n",
    "    out_table = pd.concat(label_dataframes) # concatenating tables\n",
    "    out_table = out_table[[\"Media file basename\",\"Start time\",\"Duration\",\"Label\",\"Labeled by\"]] #rearranging columns\n",
    "    out_table.to_csv(dir_name.replace('/','')+'.csv', index=False)"
   ]
  },
  {
   "cell_type": "code",
   "execution_count": null,
   "metadata": {
    "collapsed": true
   },
   "outputs": [],
   "source": []
  },
  {
   "cell_type": "code",
   "execution_count": null,
   "metadata": {
    "collapsed": true
   },
   "outputs": [],
   "source": [
    "\n"
   ]
  },
  {
   "cell_type": "code",
   "execution_count": null,
   "metadata": {
    "collapsed": true
   },
   "outputs": [],
   "source": []
  },
  {
   "cell_type": "code",
   "execution_count": null,
   "metadata": {
    "collapsed": true
   },
   "outputs": [],
   "source": [
    "\n",
    "\n",
    "with open(csv_pathname) as csvfile:\n",
    "    spamreader = csv.reader(csvfile)\n",
    "    for row in spamreader:\n",
    "        print ', '.join(row)\n",
    "\n"
   ]
  },
  {
   "cell_type": "code",
   "execution_count": null,
   "metadata": {
    "collapsed": true
   },
   "outputs": [],
   "source": []
  },
  {
   "cell_type": "code",
   "execution_count": null,
   "metadata": {
    "collapsed": true
   },
   "outputs": [],
   "source": []
  }
 ],
 "metadata": {
  "kernelspec": {
   "display_name": "Python 2",
   "language": "python",
   "name": "python2"
  },
  "language_info": {
   "codemirror_mode": {
    "name": "ipython",
    "version": 2
   },
   "file_extension": ".py",
   "mimetype": "text/x-python",
   "name": "python",
   "nbconvert_exporter": "python",
   "pygments_lexer": "ipython2",
   "version": "2.7.6"
  }
 },
 "nbformat": 4,
 "nbformat_minor": 1
}
